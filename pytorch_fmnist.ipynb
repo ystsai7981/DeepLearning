{
 "cells": [
  {
   "cell_type": "code",
   "execution_count": 2,
   "id": "578f3bc6-ca29-4dfd-8d75-dd41427b301e",
   "metadata": {},
   "outputs": [],
   "source": [
    "import torch\n",
    "import torch.nn as nn\n",
    "import torch.nn.functional as F\n",
    "from torch.utils.data import DataLoader, random_split, BatchSampler, RandomSampler\n",
    "from torchvision import datasets\n",
    "import torchvision.transforms as T\n",
    "import torchvision.transforms.functional as TF\n",
    "import matplotlib.pyplot as plt\n",
    "import numpy as np\n",
    "import timeit"
   ]
  },
  {
   "cell_type": "code",
   "execution_count": 31,
   "id": "fffc2f5a-04f2-472e-9c5a-789a67573f1a",
   "metadata": {},
   "outputs": [],
   "source": [
    "# arguments\n",
    "batch_size = 64\n",
    "test_batch_size = 1000\n",
    "epochs = 20\n",
    "device = 'cuda'\n",
    "\n",
    "# model class\n",
    "class Net(nn.Module):\n",
    "    def __init__(self):\n",
    "        super(Net, self).__init__()\n",
    "        self.conv1 = nn.Conv2d(1, 16, 3, 1, 1)\n",
    "        self.conv2 = nn.Conv2d(16, 32, 3, 1, 1)\n",
    "        self.conv3 = nn.Conv2d(32, 64, 3, 1, 1)\n",
    "        self.BN16 = nn.BatchNorm2d(16)\n",
    "        self.BN32 = nn.BatchNorm2d(32)\n",
    "        self.BN64 = nn.BatchNorm2d(64)\n",
    "        self.relu = nn.ReLU()\n",
    "        self.maxpool = nn.MaxPool2d(2)\n",
    "        self.flatten = nn.Flatten()\n",
    "        self.fc1 = nn.Linear(64*14*14, 32)\n",
    "        self.fc2 = nn.Linear(32, 10)\n",
    "        self.softmax = nn.LogSoftmax(dim=1)\n",
    "\n",
    "    def forward(self, x):\n",
    "        x = self.conv1(x)\n",
    "        x = self.BN16(x)\n",
    "        x = self.relu(x)\n",
    "        x = self.conv2(x)\n",
    "        x = self.BN32(x)\n",
    "        x = self.relu(x)\n",
    "        x = self.conv3(x)\n",
    "        x = self.BN64(x)\n",
    "        x = self.relu(x)\n",
    "        x = self.maxpool(x)\n",
    "        x = self.flatten(x)\n",
    "        x = self.fc1(x)\n",
    "        x = self.fc2(x)\n",
    "        output = self.softmax(x)\n",
    "        return output\n",
    "\n",
    "\n",
    "# train function\n",
    "def train(data_loader, model, optimizer):\n",
    "    model.train()\n",
    "    total_batchs = len(data_loader)\n",
    "    train_loss = 0\n",
    "    equal = '='\n",
    "    arrow = '>'\n",
    "    hyphen = '-'\n",
    "    for batch, (data, label) in enumerate(data_loader):\n",
    "        data, label = data.to(device), label.to(device)\n",
    "        pred = model(data)\n",
    "        loss = F.cross_entropy(pred, label)\n",
    "        train_loss += loss.item()\n",
    "        optimizer.zero_grad()\n",
    "        loss.backward()\n",
    "        optimizer.step()\n",
    "        bar_num = int(20 * ((batch+1) / total_batchs))\n",
    "        print(f'[{bar_num*equal + arrow + (20-bar_num)*hyphen}]\\tTraining Loss: {train_loss/(batch+1):.4f}', end='\\r')\n",
    "    print()\n",
    "        \n",
    "# test function\n",
    "def evaluate(data_loader, model, mode='eval'):\n",
    "    model.eval()\n",
    "    total_batchs = len(data_loader)\n",
    "    data_size = len(data_loader.dataset)\n",
    "    eval_loss, correct = 0, 0\n",
    "    with torch.no_grad():\n",
    "        for data, label in data_loader:\n",
    "            data, label = data.to(device), label.to(device)\n",
    "            pred = model(data)\n",
    "            eval_loss += F.cross_entropy(pred, label, reduction = 'sum').item()\n",
    "            correct += (pred.argmax(dim=1) == label).type(torch.float).sum().item()\n",
    "    eval_loss /= data_size\n",
    "    correct /= data_size\n",
    "    if mode == 'eval':\n",
    "        print(f'\\t\\tValidation Loss: {eval_loss:.4f}\\tValidation Accuracy: {100*correct:.1f}%')\n",
    "    elif mode == 'test':\n",
    "        print(f'\\t\\tTest Loss: {eval_loss:.4f}\\tTest Accuracy: {100*correct:.1f}%\\n')\n",
    "\n",
    "\n",
    "# transform\n",
    "train_tr = T.Compose([\n",
    "    T.ToTensor()\n",
    "])\n",
    "eval_tr = T.Compose([\n",
    "    T.ToTensor()\n",
    "])\n",
    "\n",
    "# load data\n",
    "train_data = datasets.FashionMNIST(\n",
    "    root='../data',\n",
    "    train=True,\n",
    "    download=True,\n",
    "    transform=train_tr\n",
    ")\n",
    "test_data = datasets.FashionMNIST(\n",
    "    root='../data',\n",
    "    train=False,\n",
    "    download=True,\n",
    "    transform=eval_tr\n",
    ")\n",
    "\n",
    "(val_data, test_data) = random_split(test_data, [5000, 5000])\n",
    "\n",
    "# data loader\n",
    "train_loader = DataLoader(train_data, batch_sampler=BatchSampler(RandomSampler(train_data), batch_size=batch_size, drop_last=False))\n",
    "val_loader = DataLoader(val_data, batch_sampler=BatchSampler(RandomSampler(val_data), batch_size=test_batch_size, drop_last=False))\n",
    "test_loader = DataLoader(test_data, batch_sampler=BatchSampler(RandomSampler(test_data), batch_size=test_batch_size, drop_last=False))"
   ]
  },
  {
   "cell_type": "code",
   "execution_count": 32,
   "id": "11ca83e2-0aca-4914-9274-5c0d8ee8f676",
   "metadata": {},
   "outputs": [
    {
     "name": "stdout",
     "output_type": "stream",
     "text": [
      "Epoch 1:\n",
      "[====================>]\tTraining Loss: 0.89687\n",
      "\t\tValidation Loss: 0.3242\tValidation Accuracy: 88.5%\n",
      "Epoch 2:\n",
      "[====================>]\tTraining Loss: 0.2805\n",
      "\t\tValidation Loss: 0.3019\tValidation Accuracy: 88.9%\n",
      "Epoch 3:\n",
      "[====================>]\tTraining Loss: 0.2393\n",
      "\t\tValidation Loss: 0.2778\tValidation Accuracy: 89.8%\n",
      "Epoch 4:\n",
      "[====================>]\tTraining Loss: 0.2231\n",
      "\t\tValidation Loss: 0.2547\tValidation Accuracy: 90.8%\n",
      "Epoch 5:\n",
      "[====================>]\tTraining Loss: 0.2106\n",
      "\t\tValidation Loss: 0.3105\tValidation Accuracy: 89.5%\n",
      "Epoch 6:\n",
      "[====================>]\tTraining Loss: 0.2020\n",
      "\t\tValidation Loss: 0.3213\tValidation Accuracy: 88.4%\n",
      "Epoch 7:\n",
      "[====================>]\tTraining Loss: 0.1982\n",
      "\t\tValidation Loss: 0.3058\tValidation Accuracy: 90.3%\n",
      "Epoch 8:\n",
      "[====================>]\tTraining Loss: 0.1874\n",
      "\t\tValidation Loss: 0.2855\tValidation Accuracy: 90.5%\n",
      "Epoch 9:\n",
      "[====================>]\tTraining Loss: 0.1743\n",
      "\t\tValidation Loss: 0.2975\tValidation Accuracy: 90.1%\n",
      "Epoch 10:\n",
      "[====================>]\tTraining Loss: 0.1658\n",
      "\t\tValidation Loss: 0.2837\tValidation Accuracy: 91.2%\n",
      "Epoch 11:\n",
      "[====================>]\tTraining Loss: 0.1569\n",
      "\t\tValidation Loss: 0.2967\tValidation Accuracy: 90.8%\n",
      "Epoch 12:\n",
      "[====================>]\tTraining Loss: 0.1455\n",
      "\t\tValidation Loss: 0.3335\tValidation Accuracy: 90.0%\n",
      "Epoch 13:\n",
      "[====================>]\tTraining Loss: 0.1400\n",
      "\t\tValidation Loss: 0.3654\tValidation Accuracy: 90.7%\n",
      "Epoch 14:\n",
      "[====================>]\tTraining Loss: 0.1336\n",
      "\t\tValidation Loss: 0.3702\tValidation Accuracy: 90.9%\n",
      "Epoch 15:\n",
      "[====================>]\tTraining Loss: 0.1275\n",
      "\t\tValidation Loss: 0.3295\tValidation Accuracy: 91.5%\n",
      "Epoch 16:\n",
      "[====================>]\tTraining Loss: 0.1195\n",
      "\t\tValidation Loss: 0.3627\tValidation Accuracy: 90.4%\n",
      "Epoch 17:\n",
      "[====================>]\tTraining Loss: 0.1136\n",
      "\t\tValidation Loss: 0.4265\tValidation Accuracy: 90.8%\n",
      "Epoch 18:\n",
      "[====================>]\tTraining Loss: 0.1125\n",
      "\t\tValidation Loss: 0.4661\tValidation Accuracy: 90.1%\n",
      "Epoch 19:\n",
      "[====================>]\tTraining Loss: 0.1094\n",
      "\t\tValidation Loss: 0.4787\tValidation Accuracy: 90.7%\n",
      "Epoch 20:\n",
      "[====================>]\tTraining Loss: 0.1055\n",
      "\t\tValidation Loss: 0.4461\tValidation Accuracy: 90.0%\n"
     ]
    }
   ],
   "source": [
    "# build model\n",
    "model = Net().to('cuda')\n",
    "optimizer = torch.optim.Adam(model.parameters(), lr=0.01)\n",
    "for epoch in range(epochs):\n",
    "    print(f'Epoch {epoch+1}:')\n",
    "    train(train_loader, model, optimizer)\n",
    "    evaluate(val_loader, model, 'eval')\n",
    "    \n",
    "    "
   ]
  },
  {
   "cell_type": "code",
   "execution_count": 65,
   "id": "20a6b409-d055-44a5-9f41-c91129dc1c85",
   "metadata": {},
   "outputs": [
    {
     "data": {
      "text/plain": [
       "<matplotlib.image.AxesImage at 0x1eb02b88340>"
      ]
     },
     "execution_count": 65,
     "metadata": {},
     "output_type": "execute_result"
    },
    {
     "data": {
      "image/png": "[encoded data removed]",
      "text/plain": [
       "<Figure size 432x288 with 1 Axes>"
      ]
     },
     "metadata": {
      "needs_background": "light"
     },
     "output_type": "display_data"
    }
   ],
   "source": [
    "plt.imshow(np.moveaxis(np.array(T.functional.rotate(train_data[0][0], -30)), 0, 2))"
   ]
  },
  {
   "cell_type": "code",
   "execution_count": 60,
   "id": "1f23dc20-0c45-488e-92a0-705e23e97cc5",
   "metadata": {},
   "outputs": [
    {
     "data": {
      "text/plain": [
       "(32, 32, 3)"
      ]
     },
     "execution_count": 60,
     "metadata": {},
     "output_type": "execute_result"
    }
   ],
   "source": [
    "np.moveaxis(np.array(train_data[0][0]), 0, 2).shape"
   ]
  },
  {
   "cell_type": "code",
   "execution_count": 2,
   "id": "fa0a19cb-9091-452d-aed5-aad158263967",
   "metadata": {},
   "outputs": [
    {
     "data": {
      "text/plain": [
       "0"
      ]
     },
     "execution_count": 2,
     "metadata": {},
     "output_type": "execute_result"
    }
   ],
   "source": [
    "torch.cuda.current_device()"
   ]
  },
  {
   "cell_type": "code",
   "execution_count": 25,
   "id": "5166a1ed-8a02-41a2-ab00-c8bf99dcdce2",
   "metadata": {},
   "outputs": [
    {
     "data": {
      "text/plain": [
       "torch.Size([1, 28, 28])"
      ]
     },
     "execution_count": 25,
     "metadata": {},
     "output_type": "execute_result"
    }
   ],
   "source": [
    "train_data[0][0].shape"
   ]
  },
  {
   "cell_type": "code",
   "execution_count": null,
   "id": "61b31271-6c42-4286-98a2-3cebe9dc9d08",
   "metadata": {},
   "outputs": [],
   "source": []
  }
 ],
 "metadata": {
  "kernelspec": {
   "display_name": "Python 3 (ipykernel)",
   "language": "python",
   "name": "python3"
  },
  "language_info": {
   "codemirror_mode": {
    "name": "ipython",
    "version": 3
   },
   "file_extension": ".py",
   "mimetype": "text/x-python",
   "name": "python",
   "nbconvert_exporter": "python",
   "pygments_lexer": "ipython3",
   "version": "3.8.11"
  }
 },
 "nbformat": 4,
 "nbformat_minor": 5
}
