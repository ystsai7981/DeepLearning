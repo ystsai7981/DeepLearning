{
 "cells": [
  {
   "cell_type": "code",
   "execution_count": 2,
   "metadata": {},
   "outputs": [],
   "source": [
    "import torch\n",
    "import torch.nn as nn\n",
    "import torch.nn.functional as F\n",
    "import torch.optim as optim\n",
    "import torchvision\n",
    "from torchvision import datasets, transforms\n",
    "from torch.utils.data import RandomSampler, BatchSampler, SequentialSampler, random_split, DataLoader\n",
    "from torch.optim.lr_scheduler import StepLR\n",
    "from torch.jit import save, load"
   ]
  },
  {
   "cell_type": "code",
   "execution_count": 7,
   "metadata": {
    "scrolled": true,
    "tags": []
   },
   "outputs": [],
   "source": [
    "class Net(nn.Module):\n",
    "    def __init__(self):\n",
    "        super(Net, self).__init__()\n",
    "        self.conv1 = nn.Conv2d(1, 32, 3, 1)\n",
    "        self.conv2 = nn.Conv2d(32, 64, 3, 1)\n",
    "        self.dropout1 = nn.Dropout(0.25)\n",
    "        self.dropout2 = nn.Dropout(0.5)\n",
    "        self.fc1 = nn.Linear(9216, 128)\n",
    "        self.fc2 = nn.Linear(128, 10)\n",
    "        \n",
    "    def forward(self, x):\n",
    "        x = self.conv1(x)\n",
    "        x = F.relu(x)\n",
    "        x = self.conv2(x)\n",
    "        x = F.relu(x)\n",
    "        x = F.max_pool2d(x, 2)\n",
    "        x = self.dropout1(x)\n",
    "        x = torch.flatten(x, 1)\n",
    "        x = self.fc1(x)\n",
    "        x = F.relu(x)\n",
    "        x = self.dropout2(x)\n",
    "        x = self.fc2(x)\n",
    "        output = F.log_softmax(x, dim=1)\n",
    "        return output\n",
    "    \n",
    "    \n",
    "def train(model, device, train_loader, optimizer, epoch, loss_history, acc_history):\n",
    "    model.train()\n",
    "    correct = 0\n",
    "    train_loss = 0\n",
    "    for data, target in train_loader:\n",
    "        data, target = data.to(device), target.to(device)\n",
    "        optimizer.zero_grad()\n",
    "        output = model(data)\n",
    "        loss = F.nll_loss(output, target)\n",
    "        pred = output.argmax(dim=1, keepdim=True)\n",
    "        correct += pred.eq(target.view_as(pred)).sum().item()\n",
    "        train_loss += loss.item()\n",
    "        loss.backward()\n",
    "        optimizer.step()\n",
    "        \n",
    "    acc = 100. * correct / len(train_loader.dataset)\n",
    "    train_loss /= len(train_loader)\n",
    "    loss_history.append(train_loss)\n",
    "    acc_history.append(acc)\n",
    "    print(f'Train Epoch: {epoch}\\nTraining Loss: {train_loss}\\tAccuracy: {acc:.4f}')\n",
    "    \n",
    "def val(model, device, val_loader, loss_history, acc_history):\n",
    "    model.eval()\n",
    "    val_loss = 0\n",
    "    correct = 0\n",
    "    with torch.no_grad():\n",
    "        for data, target in val_loader:\n",
    "            data, target = data.to(device), target.to(device)\n",
    "            output = model(data)\n",
    "            val_loss += F.nll_loss(output, target, reduction='sum').item()\n",
    "            pred = output.argmax(dim=1, keepdim=True)\n",
    "            correct += pred.eq(target.view_as(pred)).sum().item()\n",
    "            \n",
    "    val_loss /= len(val_loader.dataset)\n",
    "    acc = 100. * correct / len(val_loader.dataset)\n",
    "    loss_history.append(val_loss)\n",
    "    acc_history.append(acc)\n",
    "    \n",
    "    print(f'Validation Loss: {val_loss}, Accuracy: {acc:.4f}\\n')\n",
    "    \n",
    "def test(model, device, test_loader):\n",
    "    model.eval()\n",
    "    test_loss = 0\n",
    "    correct = 0\n",
    "    with torch.no_grad():\n",
    "        for data, target in test_loader:\n",
    "            data, target = data.to(device), target.to(device)\n",
    "            output = model(data)\n",
    "            test_loss += F.nll_loss(output, target, reduction='sum').item()\n",
    "            pred = output.argmax(dim=1, keepdim=True)\n",
    "            correct += pred.eq(target.view_as(pred)).sum().item()\n",
    "            \n",
    "    test_loss /= len(test_loader.dataset)\n",
    "    acc = 100. * correct / len(test_loader.dataset)\n",
    "    \n",
    "    print(f'Test Loss: {test_loss}, Accuracy: {acc:.4f}')\n",
    "    \n",
    "\n",
    "# set random seed\n",
    "torch.manual_seed(198964)\n",
    "\n",
    "#set device\n",
    "device = torch.device('cuda')\n",
    "\n",
    "# arguments\n",
    "batch_size = 64\n",
    "test_batch_size = 1000\n",
    "lr = 1.0\n",
    "gamma = 0.7\n",
    "epochs = 14\n",
    "\n",
    "# transform\n",
    "train_tf=transforms.Compose([\n",
    "    transforms.ToTensor(),\n",
    "    transforms.Normalize((0.1307, ), (0.3081, ))\n",
    "])\n",
    "eval_tf=transforms.Compose([\n",
    "    transforms.ToTensor(),\n",
    "    transforms.Normalize((0.1307, ), (0.3081, ))\n",
    "])\n",
    "\n",
    "# import data\n",
    "train_data = datasets.MNIST(root='../data', train=False, download=True,\n",
    "                            transform=train_tf)\n",
    "test_data = datasets.MNIST(root='../data', train=False, download=True, \n",
    "                           transform=eval_tf)\n",
    "(test_data, val_data) = random_split(test_data, [5000, 5000])\n",
    "\n",
    "# kwargs\n",
    "train_kwargs = {'batch_sampler': BatchSampler(sampler=RandomSampler(train_data),\n",
    "                                              batch_size=batch_size,\n",
    "                                              drop_last=False),\n",
    "                'num_workers':3}\n",
    "val_kwargs = {'batch_sampler': BatchSampler(sampler=SequentialSampler(val_data),\n",
    "                                              batch_size=test_batch_size,\n",
    "                                              drop_last=False), \n",
    "              'num_workers':3}\n",
    "test_kwargs = {'batch_sampler': BatchSampler(sampler=SequentialSampler(test_data),\n",
    "                                              batch_size=test_batch_size,\n",
    "                                              drop_last=False),\n",
    "               'num_workers':3}\n",
    "\n",
    "# dataloader\n",
    "train_loader = DataLoader(train_data, **train_kwargs)\n",
    "val_loader = DataLoader(val_data, **val_kwargs)\n",
    "test_loader = DataLoader(test_data, **test_kwargs)\n",
    "\n",
    "# build model\n",
    "model = Net().to(device)\n",
    "optimizer = optim.Adadelta(model.parameters(), lr=lr)\n",
    "scheduler = StepLR(optimizer, step_size = 1, gamma=gamma)\n",
    "train_loss, val_loss = [], []\n",
    "train_acc, val_acc = [], []"
   ]
  },
  {
   "cell_type": "code",
   "execution_count": 8,
   "metadata": {
    "scrolled": true,
    "tags": []
   },
   "outputs": [
    {
     "name": "stdout",
     "output_type": "stream",
     "text": [
      "Train Epoch: 1\n",
      "Training Loss: 0.5126446617921446\tAccuracy: 83.3500\n",
      "Validation Loss: 0.10710512237548828, Accuracy: 96.5600\n",
      "\n",
      "Train Epoch: 2\n",
      "Training Loss: 0.14457440939820876\tAccuracy: 95.3700\n",
      "Validation Loss: 0.04711164855957031, Accuracy: 98.6200\n",
      "\n",
      "Train Epoch: 3\n",
      "Training Loss: 0.09522251984709577\tAccuracy: 97.0000\n",
      "Validation Loss: 0.03161551628112793, Accuracy: 99.0200\n",
      "\n",
      "Train Epoch: 4\n",
      "Training Loss: 0.07501378790979647\tAccuracy: 98.0100\n",
      "Validation Loss: 0.0224038480758667, Accuracy: 99.2200\n",
      "\n",
      "Train Epoch: 5\n",
      "Training Loss: 0.05797807570579491\tAccuracy: 98.2400\n",
      "Validation Loss: 0.017364588737487793, Accuracy: 99.4400\n",
      "\n",
      "Train Epoch: 6\n",
      "Training Loss: 0.05012429650253053\tAccuracy: 98.5700\n",
      "Validation Loss: 0.013983384513854981, Accuracy: 99.5600\n",
      "\n",
      "Train Epoch: 7\n",
      "Training Loss: 0.043273142107412406\tAccuracy: 98.6400\n",
      "Validation Loss: 0.012782034778594971, Accuracy: 99.6400\n",
      "\n",
      "Train Epoch: 8\n",
      "Training Loss: 0.04001055346137494\tAccuracy: 98.7700\n",
      "Validation Loss: 0.010830975818634033, Accuracy: 99.6400\n",
      "\n",
      "Train Epoch: 9\n",
      "Training Loss: 0.041377256619951626\tAccuracy: 98.7000\n",
      "Validation Loss: 0.010269128799438476, Accuracy: 99.7000\n",
      "\n",
      "Train Epoch: 10\n",
      "Training Loss: 0.035011309390341874\tAccuracy: 98.9300\n",
      "Validation Loss: 0.010108036804199218, Accuracy: 99.6800\n",
      "\n",
      "Train Epoch: 11\n",
      "Training Loss: 0.03686125673706626\tAccuracy: 98.8400\n",
      "Validation Loss: 0.00978798017501831, Accuracy: 99.6800\n",
      "\n",
      "Train Epoch: 12\n",
      "Training Loss: 0.035426435481599725\tAccuracy: 98.8900\n",
      "Validation Loss: 0.00959513578414917, Accuracy: 99.6800\n",
      "\n",
      "Train Epoch: 13\n",
      "Training Loss: 0.03520191751478335\tAccuracy: 98.9500\n",
      "Validation Loss: 0.009591855144500732, Accuracy: 99.6800\n",
      "\n",
      "Train Epoch: 14\n",
      "Training Loss: 0.036059860110425265\tAccuracy: 98.7600\n",
      "Validation Loss: 0.00937974042892456, Accuracy: 99.7200\n",
      "\n",
      "Test Loss: 0.00761904935836792, Accuracy: 99.7600\n"
     ]
    }
   ],
   "source": [
    "for epoch in range(1, epochs+1):\n",
    "    train(model, device, train_loader, optimizer, epoch, train_loss, train_acc)\n",
    "    val(model, device, val_loader, val_loss, val_acc)\n",
    "    scheduler.step()\n",
    "    \n",
    "test(model, device, test_loader)"
   ]
  },
  {
   "cell_type": "markdown",
   "metadata": {},
   "source": [
    " "
   ]
  },
  {
   "cell_type": "markdown",
   "metadata": {},
   "source": [
    "畫出比較圖"
   ]
  },
  {
   "cell_type": "code",
   "execution_count": 11,
   "metadata": {},
   "outputs": [
    {
     "data": {
      "image/png": "[encoded data removed]",
      "text/plain": [
       "<Figure size 432x288 with 1 Axes>"
      ]
     },
     "metadata": {
      "needs_background": "light"
     },
     "output_type": "display_data"
    },
    {
     "data": {
      "image/png": "[encoded data removed]",
      "text/plain": [
       "<Figure size 432x288 with 1 Axes>"
      ]
     },
     "metadata": {
      "needs_background": "light"
     },
     "output_type": "display_data"
    }
   ],
   "source": [
    "import numpy as np\n",
    "import matplotlib.pyplot as plt\n",
    "\n",
    "x = np.arange(1, epochs+1)\n",
    "loss_graph = plt.subplot(title='Loss Compare', xlabel='Epochs', ylabel='Loss')\n",
    "loss_graph = plt.plot(x, train_loss, label='Training Loss')\n",
    "loss_graph =  plt.plot(x, val_loss, label='Validation Loss')\n",
    "plt.legend()\n",
    "plt.show()\n",
    "acc_graph = plt.subplot(title='Accuracy Compare', xlabel='Epochs', ylabel=r'Accuracy (%)')\n",
    "acc_graph = plt.plot(x, train_acc, label='Training Accuracy')\n",
    "acc_graph = plt.plot(x, val_acc, label='Validation Accuracy')\n",
    "plt.legend()\n",
    "plt.show()"
   ]
  },
  {
   "cell_type": "markdown",
   "metadata": {},
   "source": [
    "儲存module的script和model的state_dict"
   ]
  },
  {
   "cell_type": "code",
   "execution_count": 12,
   "metadata": {},
   "outputs": [],
   "source": [
    "from torch.jit import save, load, script\n",
    "\n",
    "m = script(Net())\n",
    "save(m, 'mnist_module.pt')\n",
    "torch.save(model.state_dict(), 'mnist_state_dict.pt')"
   ]
  },
  {
   "cell_type": "markdown",
   "metadata": {},
   "source": []
  },
  {
   "cell_type": "markdown",
   "metadata": {},
   "source": [
    "# -------------Report---------------"
   ]
  },
  {
   "cell_type": "markdown",
   "metadata": {},
   "source": [
    "## Import data:"
   ]
  },
  {
   "cell_type": "markdown",
   "metadata": {},
   "source": [
    "我將test dataset中的5000筆資料用於驗證model的準確度，剩下5000筆資料在最後用來測試"
   ]
  },
  {
   "cell_type": "markdown",
   "metadata": {},
   "source": [
    "## Data loader:"
   ]
  },
  {
   "cell_type": "markdown",
   "metadata": {},
   "source": [
    "這裡就只有簡單地把圖片轉成0~1的tensor並進行normalize"
   ]
  },
  {
   "cell_type": "markdown",
   "metadata": {},
   "source": [
    "## Model:"
   ]
  },
  {
   "cell_type": "markdown",
   "metadata": {},
   "source": [
    "這個model用兩層convolution layers和一次的maxpooling，經過flatten後送進fully connect layers，經過log softmax後輸出結果"
   ]
  },
  {
   "cell_type": "markdown",
   "metadata": {},
   "source": [
    "## Loss function: *Negative log likelyhood loss*"
   ]
  },
  {
   "cell_type": "markdown",
   "metadata": {},
   "source": [
    "## Optimizer: *Adadelta*"
   ]
  },
  {
   "cell_type": "markdown",
   "metadata": {
    "tags": []
   },
   "source": [
    "## Learning rate scheduler:"
   ]
  },
  {
   "cell_type": "markdown",
   "metadata": {},
   "source": [
    "每走一步就把learning rate乘以gamma(這邊設0.7)"
   ]
  },
  {
   "cell_type": "markdown",
   "metadata": {
    "tags": []
   },
   "source": [
    "## Result: "
   ]
  },
  {
   "cell_type": "markdown",
   "metadata": {},
   "source": [
    "### validation: 99.72 %"
   ]
  },
  {
   "cell_type": "markdown",
   "metadata": {},
   "source": [
    "### test: 99.76 %"
   ]
  },
  {
   "cell_type": "code",
   "execution_count": null,
   "metadata": {},
   "outputs": [],
   "source": []
  }
 ],
 "metadata": {
  "kernelspec": {
   "display_name": "Python 3 (ipykernel)",
   "language": "python",
   "name": "python3"
  },
  "language_info": {
   "codemirror_mode": {
    "name": "ipython",
    "version": 3
   },
   "file_extension": ".py",
   "mimetype": "text/x-python",
   "name": "python",
   "nbconvert_exporter": "python",
   "pygments_lexer": "ipython3",
   "version": "3.8.11"
  }
 },
 "nbformat": 4,
 "nbformat_minor": 4
}
