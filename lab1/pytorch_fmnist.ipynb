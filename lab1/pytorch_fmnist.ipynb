{
 "cells": [
  {
   "cell_type": "code",
   "execution_count": 23,
   "id": "578f3bc6-ca29-4dfd-8d75-dd41427b301e",
   "metadata": {},
   "outputs": [],
   "source": [
    "import torch\n",
    "import torch.nn as nn\n",
    "import torch.nn.functional as F\n",
    "from torch.utils.data import DataLoader, random_split, BatchSampler, RandomSampler\n",
    "from torchvision import datasets\n",
    "import torchvision.transforms as T\n",
    "import torchvision.transforms.functional as TF\n",
    "import matplotlib.pyplot as plt\n",
    "import numpy as np\n",
    "from torch.optim.lr_scheduler import CosineAnnealingLR\n",
    "import random"
   ]
  },
  {
   "cell_type": "code",
   "execution_count": 24,
   "id": "fffc2f5a-04f2-472e-9c5a-789a67573f1a",
   "metadata": {},
   "outputs": [],
   "source": [
    "# set random seed\n",
    "seed = 198964\n",
    "torch.manual_seed(seed)\n",
    "torch.cuda.manual_seed(seed)\n",
    "torch.cuda.manual_seed_all(seed)\n",
    "np.random.seed(seed)\n",
    "random.seed(seed)\n",
    "torch.backends.cudnn.benchmark = False\n",
    "torch.backends.cudnn.deterministic = True\n",
    "\n",
    "\n",
    "# arguments\n",
    "batch_size = 64\n",
    "test_batch_size = 1000\n",
    "epochs = 14\n",
    "device = 'cuda'\n",
    "\n",
    "# model class\n",
    "class Net(nn.Module):\n",
    "    def __init__(self):\n",
    "        super(Net, self).__init__()\n",
    "        self.conv1 = nn.Conv2d(1, 16, 3, 1, 1)\n",
    "        self.conv2 = nn.Conv2d(16, 32, 3, 1, 0)\n",
    "        self.conv3 = nn.Conv2d(32, 64, 3, 1, 1)\n",
    "        self.BN16 = nn.BatchNorm2d(16)\n",
    "        self.BN32 = nn.BatchNorm2d(32)\n",
    "        self.BN64 = nn.BatchNorm2d(64)\n",
    "        self.relu = nn.ReLU()\n",
    "        self.maxpool = nn.MaxPool2d(2)\n",
    "        self.flatten = nn.Flatten()\n",
    "        self.fc1 = nn.Linear(64*3*3, 32)\n",
    "        self.fc2 = nn.Linear(32, 10)\n",
    "        self.softmax = nn.LogSoftmax(dim=1)\n",
    "\n",
    "    def forward(self, x):\n",
    "        x = self.conv1(x)\n",
    "        x = self.BN16(x)\n",
    "        x = self.relu(x)\n",
    "        x = self.maxpool(x)\n",
    "        x = self.conv2(x)\n",
    "        x = self.BN32(x)\n",
    "        x = self.relu(x)\n",
    "        x = self.maxpool(x)\n",
    "        x = self.conv3(x)\n",
    "        x = self.BN64(x)\n",
    "        x = self.relu(x)\n",
    "        x = self.maxpool(x)\n",
    "        x = self.flatten(x)\n",
    "        x = self.fc1(x)\n",
    "        x = self.fc2(x)\n",
    "        output = self.softmax(x)\n",
    "        return output\n",
    "\n",
    "\n",
    "# train function\n",
    "def train(data_loader, model, optimizer, loss_history, acc_history):\n",
    "    model.train()\n",
    "    total_batchs = len(data_loader)\n",
    "    data_size = len(data_loader.dataset)\n",
    "    train_loss, correct = 0, 0\n",
    "    equal = '='\n",
    "    arrow = '>'\n",
    "    hyphen = '-'\n",
    "    for batch, (data, label) in enumerate(data_loader):\n",
    "        data, label = data.to(device), label.to(device)\n",
    "        pred = model(data)\n",
    "        loss = F.cross_entropy(pred, label)\n",
    "        train_loss += loss.item()\n",
    "        correct += (pred.argmax(dim=1) == label).type(torch.float).sum().item()\n",
    "        optimizer.zero_grad()\n",
    "        loss.backward()\n",
    "        optimizer.step()\n",
    "        bar_num = int(20 * ((batch+1) / total_batchs))\n",
    "        avg_loss = train_loss / (batch+1)\n",
    "        acc = 100. * correct / data_size\n",
    "        print(f'[{bar_num*equal + arrow + (20-bar_num)*hyphen}]\\tTraining Loss: {avg_loss:.4f}\\tTraining Accuracy: {acc:.1f}%', end='\\r')\n",
    "    loss_history.append(avg_loss)\n",
    "    acc_history.append(acc)\n",
    "    print()\n",
    "        \n",
    "# eval function\n",
    "def evaluate(data_loader, model, loss_history, acc_history):\n",
    "    model.eval()\n",
    "    total_batchs = len(data_loader)\n",
    "    data_size = len(data_loader.dataset)\n",
    "    eval_loss, correct = 0, 0\n",
    "    with torch.no_grad():\n",
    "        for data, label in data_loader:\n",
    "            data, label = data.to(device), label.to(device)\n",
    "            pred = model(data)\n",
    "            eval_loss += F.cross_entropy(pred, label, reduction = 'sum').item()\n",
    "            correct += (pred.argmax(dim=1) == label).type(torch.float).sum().item()\n",
    "    eval_loss /= data_size\n",
    "    correct /= data_size\n",
    "    loss_history.append(eval_loss)\n",
    "    acc_history.append(100. * correct)\n",
    "    print(f'\\t\\t\\tValidation Loss: {eval_loss:.4f}\\tValidation Accuracy: {100*correct:.1f}%')\n",
    "\n",
    "        \n",
    "\n",
    "# test function\n",
    "def test(data_loader, model):\n",
    "    model.eval()\n",
    "    total_batchs = len(data_loader)\n",
    "    data_size = len(data_loader.dataset)\n",
    "    test_loss, correct = 0, 0\n",
    "    with torch.no_grad():\n",
    "        for data, label in data_loader:\n",
    "            data, label = data.to(device), label.to(device)\n",
    "            pred = model(data)\n",
    "            test_loss += F.cross_entropy(pred, label, reduction = 'sum').item()\n",
    "            correct += (pred.argmax(dim=1) == label).type(torch.float).sum().item()\n",
    "    test_loss /= data_size\n",
    "    correct /= data_size\n",
    "    print(f'\\nTest Loss: {test_loss:.4f}\\tTest Accuracy: {100*correct:.1f}%\\n')\n",
    "\n",
    "\n",
    "\n",
    "# transform\n",
    "train_tr = T.Compose([\n",
    "    T.ToTensor()\n",
    "])\n",
    "eval_tr = T.Compose([\n",
    "    T.ToTensor()\n",
    "])\n",
    "\n",
    "# load data\n",
    "train_data = datasets.FashionMNIST(\n",
    "    root='./data',\n",
    "    train=True,\n",
    "    download=True,\n",
    "    transform=train_tr\n",
    ")\n",
    "test_data = datasets.FashionMNIST(\n",
    "    root='./data',\n",
    "    train=False,\n",
    "    download=True,\n",
    "    transform=eval_tr\n",
    ")\n",
    "\n",
    "(val_data, test_data) = random_split(test_data, [5000, 5000], generator=torch.Generator().manual_seed(198964))\n",
    "\n",
    "# data loader\n",
    "train_loader = DataLoader(train_data, batch_sampler=BatchSampler(RandomSampler(train_data, generator=torch.Generator().manual_seed(198964)), batch_size=batch_size, drop_last=False))\n",
    "val_loader = DataLoader(val_data, batch_sampler=BatchSampler(RandomSampler(val_data, generator=torch.Generator().manual_seed(198964)), batch_size=test_batch_size, drop_last=False))\n",
    "test_loader = DataLoader(test_data, batch_sampler=BatchSampler(RandomSampler(test_data, generator=torch.Generator().manual_seed(198964)), batch_size=test_batch_size, drop_last=False))"
   ]
  },
  {
   "cell_type": "code",
   "execution_count": 25,
   "id": "1d5e6ced-65e8-4589-bb40-90cff5406dfa",
   "metadata": {
    "scrolled": true,
    "tags": []
   },
   "outputs": [
    {
     "name": "stdout",
     "output_type": "stream",
     "text": [
      "Adjusting learning rate of group 0 to 1.0000e-02.\n",
      "Epoch 1:\n",
      "[====================>]\tTraining Loss: 0.4390\tTraining Accuracy: 84.1%\n",
      "\t\t\tValidation Loss: 0.3175\tValidation Accuracy: 88.6%\n",
      "Adjusting learning rate of group 0 to 9.8746e-03.\n",
      "Epoch 2:\n",
      "[====================>]\tTraining Loss: 0.2925\tTraining Accuracy: 89.3%\n",
      "\t\t\tValidation Loss: 0.2811\tValidation Accuracy: 89.9%\n",
      "Adjusting learning rate of group 0 to 9.5048e-03.\n",
      "Epoch 3:\n",
      "[====================>]\tTraining Loss: 0.2603\tTraining Accuracy: 90.6%\n",
      "\t\t\tValidation Loss: 0.2943\tValidation Accuracy: 89.6%\n",
      "Adjusting learning rate of group 0 to 8.9092e-03.\n",
      "Epoch 4:\n",
      "[====================>]\tTraining Loss: 0.2352\tTraining Accuracy: 91.4%\n",
      "\t\t\tValidation Loss: 0.3241\tValidation Accuracy: 87.9%\n",
      "Adjusting learning rate of group 0 to 8.1174e-03.\n",
      "Epoch 5:\n",
      "[====================>]\tTraining Loss: 0.2162\tTraining Accuracy: 92.1%\n",
      "\t\t\tValidation Loss: 0.2670\tValidation Accuracy: 90.4%\n",
      "Adjusting learning rate of group 0 to 7.1694e-03.\n",
      "Epoch 6:\n",
      "[====================>]\tTraining Loss: 0.1942\tTraining Accuracy: 92.9%\n",
      "\t\t\tValidation Loss: 0.2949\tValidation Accuracy: 89.8%\n",
      "Adjusting learning rate of group 0 to 6.1126e-03.\n",
      "Epoch 7:\n",
      "[====================>]\tTraining Loss: 0.1744\tTraining Accuracy: 93.6%\n",
      "\t\t\tValidation Loss: 0.2522\tValidation Accuracy: 91.1%\n",
      "Adjusting learning rate of group 0 to 5.0000e-03.\n",
      "Epoch 8:\n",
      "[====================>]\tTraining Loss: 0.1541\tTraining Accuracy: 94.2%\n",
      "\t\t\tValidation Loss: 0.2554\tValidation Accuracy: 91.6%\n",
      "Adjusting learning rate of group 0 to 3.8874e-03.\n",
      "Epoch 9:\n",
      "[====================>]\tTraining Loss: 0.1322\tTraining Accuracy: 95.1%\n",
      "\t\t\tValidation Loss: 0.3290\tValidation Accuracy: 89.5%\n",
      "Adjusting learning rate of group 0 to 2.8306e-03.\n",
      "Epoch 10:\n",
      "[====================>]\tTraining Loss: 0.1102\tTraining Accuracy: 96.0%\n",
      "\t\t\tValidation Loss: 0.2579\tValidation Accuracy: 92.0%\n",
      "Adjusting learning rate of group 0 to 1.8826e-03.\n",
      "Epoch 11:\n",
      "[====================>]\tTraining Loss: 0.0918\tTraining Accuracy: 96.7%\n",
      "\t\t\tValidation Loss: 0.2756\tValidation Accuracy: 91.9%\n",
      "Adjusting learning rate of group 0 to 1.0908e-03.\n",
      "Epoch 12:\n",
      "[====================>]\tTraining Loss: 0.0762\tTraining Accuracy: 97.3%\n",
      "\t\t\tValidation Loss: 0.2921\tValidation Accuracy: 92.0%\n",
      "Adjusting learning rate of group 0 to 4.9516e-04.\n",
      "Epoch 13:\n",
      "[====================>]\tTraining Loss: 0.0632\tTraining Accuracy: 97.9%\n",
      "\t\t\tValidation Loss: 0.2993\tValidation Accuracy: 92.0%\n",
      "Adjusting learning rate of group 0 to 1.2536e-04.\n",
      "Epoch 14:\n",
      "[====================>]\tTraining Loss: 0.0563\tTraining Accuracy: 98.1%\n",
      "\t\t\tValidation Loss: 0.3037\tValidation Accuracy: 92.0%\n",
      "Adjusting learning rate of group 0 to 0.0000e+00.\n",
      "\n",
      "Test Loss: 0.2963\tTest Accuracy: 91.7%\n",
      "\n"
     ]
    }
   ],
   "source": [
    "# build model\n",
    "model = Net().to('cuda')\n",
    "optimizer = torch.optim.Adam(model.parameters(), lr=0.01)\n",
    "scheduler = CosineAnnealingLR(optimizer, T_max=epochs, verbose=True)\n",
    "train_loss, val_loss = [], []\n",
    "train_acc, val_acc = [], []\n",
    "\n",
    "for epoch in range(epochs):\n",
    "    print(f'Epoch {epoch+1}:')\n",
    "    train(train_loader, model, optimizer, train_loss, train_acc)\n",
    "    evaluate(val_loader, model, val_loss, val_acc)\n",
    "    scheduler.step()\n",
    "    \n",
    "test(test_loader, model)"
   ]
  },
  {
   "cell_type": "code",
   "execution_count": 26,
   "id": "e33ef889-c7a3-4def-8b7f-94e448a09365",
   "metadata": {
    "scrolled": true,
    "tags": []
   },
   "outputs": [],
   "source": [
    "# save model\n",
    "from torch.jit import save, load, script\n",
    "\n",
    "m = script(Net())\n",
    "save(m, 'fmnist_module.pt')\n",
    "torch.save(model.state_dict(), 'fmnist_state_dict.pt')"
   ]
  },
  {
   "cell_type": "code",
   "execution_count": 27,
   "id": "0bd83a7b-1133-42c6-a5a2-97323c0ec70c",
   "metadata": {},
   "outputs": [
    {
     "data": {
      "image/png": "[encoded data removed]",
      "text/plain": [
       "<Figure size 432x288 with 1 Axes>"
      ]
     },
     "metadata": {
      "needs_background": "light"
     },
     "output_type": "display_data"
    },
    {
     "data": {
      "image/png": "[encoded data removed]",
      "text/plain": [
       "<Figure size 432x288 with 1 Axes>"
      ]
     },
     "metadata": {
      "needs_background": "light"
     },
     "output_type": "display_data"
    }
   ],
   "source": [
    "import numpy as np\n",
    "import matplotlib.pyplot as plt\n",
    "\n",
    "x = np.arange(1, epochs+1)\n",
    "loss_graph = plt.subplot(title='Loss Compare', xlabel='Epochs', ylabel='Loss')\n",
    "loss_graph = plt.plot(x, train_loss, label='Training Loss')\n",
    "loss_graph =  plt.plot(x, val_loss, label='Validation Loss')\n",
    "plt.legend()\n",
    "plt.show()\n",
    "acc_graph = plt.subplot(title='Accuracy Compare', xlabel='Epochs', ylabel=r'Accuracy (%)')\n",
    "acc_graph = plt.plot(x, train_acc, label='Training Accuracy')\n",
    "acc_graph = plt.plot(x, val_acc, label='Validation Accuracy')\n",
    "plt.legend()\n",
    "plt.show()"
   ]
  },
  {
   "cell_type": "markdown",
   "id": "88254530-87e7-4e8f-8558-ae5315c20c70",
   "metadata": {},
   "source": [
    "# -----------Report-----------"
   ]
  },
  {
   "cell_type": "markdown",
   "id": "3065fc8b-83f1-4254-81d5-07f5f9e9ca63",
   "metadata": {},
   "source": [
    "## import data:"
   ]
  },
  {
   "cell_type": "markdown",
   "id": "bd180540-7ed4-49ef-ba6e-d79965deb737",
   "metadata": {},
   "source": [
    "我將test dataset中的5000筆資料用於驗證model的準確度，剩下5000筆資料在最後用來測試"
   ]
  },
  {
   "cell_type": "markdown",
   "id": "4234592b-fa8f-443a-b7b5-67df624d09d3",
   "metadata": {},
   "source": [
    "## Data loader:"
   ]
  },
  {
   "cell_type": "markdown",
   "id": "7b42ea52-78d4-4dc5-b2ce-95337ed56ea6",
   "metadata": {},
   "source": [
    "這裡就只有簡單地把圖片轉成0~1的tensor並進行normalize"
   ]
  },
  {
   "cell_type": "markdown",
   "id": "83e8a257-dda8-4669-8e3b-85a34b2b7bbe",
   "metadata": {},
   "source": [
    "## Model:"
   ]
  },
  {
   "cell_type": "markdown",
   "id": "a98d6b90-186b-41a8-9dca-22efd5bae938",
   "metadata": {},
   "source": [
    "這裡用三層convolution layers加上兩層fully connect layers,總共經過三次maxpooling"
   ]
  },
  {
   "cell_type": "markdown",
   "id": "d6c1fc63-d112-44e6-97a8-1665152dd248",
   "metadata": {},
   "source": [
    "## Loss function: *Cross Entropy*"
   ]
  },
  {
   "cell_type": "markdown",
   "id": "b5646c89-cbfd-4780-a93e-8a53f0d6aa50",
   "metadata": {},
   "source": [
    "## Optimizer: *Adam*"
   ]
  },
  {
   "cell_type": "markdown",
   "id": "ffdc6585-b018-466b-8ee5-1f5ceb355b99",
   "metadata": {
    "tags": []
   },
   "source": [
    "## Learning rate scheduler: Cosine Annealing"
   ]
  },
  {
   "cell_type": "markdown",
   "id": "9515b6f3-cf66-4202-8f60-40b3a5125595",
   "metadata": {
    "tags": []
   },
   "source": [
    "## Result: "
   ]
  },
  {
   "cell_type": "markdown",
   "id": "1c02c33f-0401-40bc-be28-55ac3bd3df19",
   "metadata": {},
   "source": [
    "### validation: 92.0 %"
   ]
  },
  {
   "cell_type": "markdown",
   "id": "8f6bd1fe-3300-4cab-8fc5-744d6323f464",
   "metadata": {
    "tags": []
   },
   "source": [
    "### test: 91.7 %"
   ]
  }
 ],
 "metadata": {
  "kernelspec": {
   "display_name": "Python 3 (ipykernel)",
   "language": "python",
   "name": "python3"
  },
  "language_info": {
   "codemirror_mode": {
    "name": "ipython",
    "version": 3
   },
   "file_extension": ".py",
   "mimetype": "text/x-python",
   "name": "python",
   "nbconvert_exporter": "python",
   "pygments_lexer": "ipython3",
   "version": "3.9.2"
  }
 },
 "nbformat": 4,
 "nbformat_minor": 5
}
