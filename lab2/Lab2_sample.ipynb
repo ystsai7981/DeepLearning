{
 "cells": [
  {
   "cell_type": "markdown",
   "metadata": {
    "id": "EuCYJSSDFukq"
   },
   "source": [
    "# Lab 2 Sample Code"
   ]
  },
  {
   "cell_type": "code",
   "execution_count": 12,
   "metadata": {
    "id": "v0BmuW9dcCId"
   },
   "outputs": [],
   "source": [
    "import numpy as np\n",
    "from numpy import dot\n",
    "import matplotlib.pyplot as plt"
   ]
  },
  {
   "cell_type": "code",
   "execution_count": 13,
   "metadata": {
    "id": "v0BmuW9dcCId"
   },
   "outputs": [],
   "source": [
    "def sigmoid(x):\n",
    "    \"\"\" Sigmoid function.\n",
    "    This function accepts any shape of np.ndarray object as input and perform sigmoid operation.\n",
    "    \"\"\"\n",
    "    return 1 / (1 + np.exp(-x))\n",
    "\n",
    "\n",
    "def der_sigmoid(y):\n",
    "    \"\"\" First derivative of Sigmoid function.\n",
    "    The input to this function should be the value that output from sigmoid function.\n",
    "    \"\"\"\n",
    "    return y * (1 - y)\n",
    "\n",
    "# 用relu作為前兩層的activation function\n",
    "def relu(x):\n",
    "    return np.maximum(0, x)\n",
    "\n",
    "# y=0時不可微分，所以直接用左半邊的微分(等於0)\n",
    "def der_relu(y):\n",
    "    return (y > 0) * 1\n",
    "\n",
    "# 避免數值過大或過小導致sigmoid輸出結果時梯度變成0\n",
    "def normalize(x):\n",
    "    return (x-np.mean(x, axis=1, keepdims=True))/(np.std(x, axis=1, keepdims=True)+1e-5) # 分母加一個很小的數避免直接為0\n",
    "\n",
    "def der_normalize(y):\n",
    "    return 1/(np.std(y, axis=1)+1e-5)\n",
    "\n",
    "\n",
    "class GenData:\n",
    "    @staticmethod\n",
    "    def _gen_linear(n=100):\n",
    "        \"\"\" Data generation (Linear)\n",
    "\n",
    "        Args:\n",
    "            n (int):    the number of data points generated in total.\n",
    "\n",
    "        Returns:\n",
    "            data (np.ndarray, np.float):    the generated data with shape (n, 2). Each row represents\n",
    "                a data point in 2d space.\n",
    "            labels (np.ndarray, np.int):    the labels that correspond to the data with shape (n, 1).\n",
    "                Each row represents a corresponding label (0 or 1).\n",
    "        \"\"\"\n",
    "        data = np.random.uniform(0, 1, (n, 2))\n",
    "\n",
    "        inputs = []\n",
    "        labels = []\n",
    "\n",
    "        for point in data:\n",
    "            inputs.append([point[0], point[1]])\n",
    "\n",
    "            if point[0] > point[1]:\n",
    "                labels.append(0.)\n",
    "            else:\n",
    "                labels.append(1.)\n",
    "\n",
    "        return np.array(inputs), np.array(labels).reshape((-1, 1))\n",
    "\n",
    "    @staticmethod\n",
    "    def _gen_xor(n=100):\n",
    "        \"\"\" Data generation (XOR)\n",
    "\n",
    "        Args:\n",
    "            n (int):    the number of data points generated in total.\n",
    "\n",
    "        Returns:\n",
    "            data (np.ndarray, np.float):    the generated data with shape (n, 2). Each row represents\n",
    "                a data point in 2d space.\n",
    "            labels (np.ndarray, np.int):    the labels that correspond to the data with shape (n, 1).\n",
    "                Each row represents a corresponding label (0 or 1).\n",
    "        \"\"\"\n",
    "        data_x = np.linspace(0, 1, n // 2)\n",
    "\n",
    "        inputs = []\n",
    "        labels = []\n",
    "\n",
    "        for x in data_x:\n",
    "            inputs.append([x, x])\n",
    "            labels.append(0.)\n",
    "\n",
    "            if x == 1 - x:\n",
    "                continue\n",
    "\n",
    "            inputs.append([x, 1 - x])\n",
    "            labels.append(1.)\n",
    "\n",
    "        return np.array(inputs), np.array(labels).reshape((-1, 1))\n",
    "\n",
    "    @staticmethod\n",
    "    def fetch_data(mode, n):\n",
    "        \"\"\" Data gather interface\n",
    "\n",
    "        Args:\n",
    "            mode (str): 'Linear' or 'XOR', indicate which generator is used.\n",
    "            n (int):    the number of data points generated in total.\n",
    "        \"\"\"\n",
    "        assert mode == 'Linear' or mode == 'XOR'\n",
    "\n",
    "        data_gen_func = {\n",
    "            'Linear': GenData._gen_linear,\n",
    "            'XOR': GenData._gen_xor\n",
    "        }[mode]\n",
    "\n",
    "        return data_gen_func(n)"
   ]
  },
  {
   "cell_type": "code",
   "execution_count": 17,
   "metadata": {
    "id": "v0BmuW9dcCId"
   },
   "outputs": [],
   "source": [
    "class SimpleNet:\n",
    "    def __init__(self, num_step=2000, print_interval=100):\n",
    "        \"\"\" A hand-crafted implementation of simple network.\n",
    "\n",
    "        Args:\n",
    "            num_step (optional):    the total number of training steps.\n",
    "            print_interval (optional):  the number of steps between each reported number.\n",
    "        \"\"\"\n",
    "        self.num_step = num_step\n",
    "        self.print_interval = print_interval\n",
    "\n",
    "        # Model parameters initialization\n",
    "        # hidden layer 1: 100 nodes\n",
    "        # hidden layer 2: 10 nodes\n",
    "        # Please initiate your network parameters here.\n",
    "        \n",
    "        # 初始化(基本上隨便設)\n",
    "        self.w1 = np.random.uniform(0, 1, (2, 100))\n",
    "        self.w2 = np.random.uniform(0, 1, (100, 10))\n",
    "        self.w3 = np.random.uniform(0, 1, (10, 1))\n",
    "        self.b1 = np.random.uniform(0, 1, (1,100))\n",
    "        self.b2 = np.random.uniform(0, 1, (1,10))\n",
    "        self.b3 = np.random.uniform(0, 1, (1,1))\n",
    "\n",
    "        \n",
    "\n",
    "    @staticmethod\n",
    "    def plot_result(data, gt_y, pred_y):\n",
    "        \"\"\" Data visualization with ground truth and predicted data comparison. There are two plots\n",
    "        for them and each of them use different colors to differentiate the data with different labels.\n",
    "\n",
    "        Args:\n",
    "            data:   the input data\n",
    "            gt_y:   ground truth to the data\n",
    "            pred_y: predicted results to the data\n",
    "        \"\"\"\n",
    "        print(data.shape, gt_y.shape, pred_y.shape[0])\n",
    "        assert data.shape[0] == gt_y.shape[0]\n",
    "        assert data.shape[0] == pred_y.shape[0]\n",
    "\n",
    "        plt.figure()\n",
    "\n",
    "        plt.subplot(1, 2, 1)\n",
    "        plt.title('Ground Truth', fontsize=18)\n",
    "\n",
    "        for idx in range(data.shape[0]):\n",
    "            if gt_y[idx] == 0:\n",
    "                plt.plot(data[idx][0], data[idx][1], 'ro')\n",
    "            else:\n",
    "                plt.plot(data[idx][0], data[idx][1], 'bo')\n",
    "\n",
    "        plt.subplot(1, 2, 2)\n",
    "        plt.title('Prediction', fontsize=18)\n",
    "\n",
    "        for idx in range(data.shape[0]):\n",
    "            if pred_y[idx] == 0:\n",
    "                plt.plot(data[idx][0], data[idx][1], 'ro')\n",
    "            else:\n",
    "                plt.plot(data[idx][0], data[idx][1], 'bo')\n",
    "\n",
    "        plt.show()\n",
    "        \n",
    "\n",
    "    def forward(self, inputs):\n",
    "        \"\"\" Implementation of the forward pass.\n",
    "        It should accepts the inputs and passing them through the network and return results.\n",
    "        \"\"\"\n",
    "\n",
    "        \"\"\" FILL IN HERE \"\"\"\n",
    "        self.inputs = inputs\n",
    "        self.l1_out = dot(inputs, self.w1) + self.b1\n",
    "        self.norm_l1 = normalize(self.l1_out)\n",
    "        self.relu_l1 = relu(self.norm_l1)\n",
    "        self.l2_out = dot(self.relu_l1, self.w2) + self.b2\n",
    "        self.norm_l2 = normalize(self.l2_out)\n",
    "        self.relu_l2 = relu(self.norm_l2)\n",
    "        self.l3_out = dot(self.relu_l2, self.w3) + self.b3\n",
    "        self.sig_l3 = sigmoid(self.l3_out)\n",
    "        return self.sig_l3\n",
    "\n",
    "    def backward(self):\n",
    "        \"\"\" Implementation of the backward pass.\n",
    "        It should utilize the saved loss to compute gradients and update the network all the way to the front.\n",
    "        \"\"\"\n",
    "        self.learning_rate = 0.01\n",
    "        \n",
    "        \"\"\" FILL IN HERE \"\"\"\n",
    "        gradient = self.error * der_sigmoid(self.sig_l3)\n",
    "        tmp = der_normalize(self.l2_out) * der_relu(self.norm_l2) * dot(gradient, self.w3.transpose()) # 趁w3未更新先計算下一層梯度\n",
    "        self.w3 -= self.relu_l2.transpose() * gradient * self.learning_rate # 利用numpy的broadcasting\n",
    "        self.b3 -= gradient * self.learning_rate\n",
    "        gradient = tmp\n",
    "        tmp = der_normalize(self.l1_out) * der_relu(self.norm_l1) * dot(gradient, self.w2.transpose())\n",
    "        self.w2 -= self.relu_l1.transpose() * gradient * self.learning_rate\n",
    "        self.b2 -= gradient * self.learning_rate\n",
    "        gradient = tmp\n",
    "        self.w1 -= self.inputs.transpose() * gradient * self.learning_rate\n",
    "        self.b1 -= gradient * self.learning_rate\n",
    "            \n",
    "\n",
    "\n",
    "    def train(self, inputs, labels):\n",
    "        \"\"\" The training routine that runs and update the model.\n",
    "\n",
    "        Args:\n",
    "            inputs: the training (and testing) data used in the model.\n",
    "            labels: the ground truth of correspond to input data.\n",
    "        \"\"\"\n",
    "        # make sure that the amount of data and label is match\n",
    "        assert inputs.shape[0] == labels.shape[0]\n",
    "\n",
    "        n = inputs.shape[0]\n",
    "\n",
    "        for epochs in range(self.num_step):\n",
    "            for idx in range(n):\n",
    "                # operation in each training step:\n",
    "                #   1. forward passing\n",
    "                #   2. compute loss\n",
    "                #   3. propagate gradient backward to the front\n",
    "                self.output = self.forward(inputs[idx:idx+1, :])\n",
    "                self.error = self.output - labels[idx:idx+1, :]\n",
    "                \"\"\" apply your backward function: \"\"\"\n",
    "                \"\"\" FILL IN HERE \"\"\"\n",
    "                self.backward()\n",
    "\n",
    "            if epochs % self.print_interval == 0:\n",
    "                print('Epochs {}: '.format(epochs))\n",
    "                self.test(inputs, labels)\n",
    "\n",
    "        print('Training finished')\n",
    "        self.test(inputs, labels)\n",
    "\n",
    "    def test(self, inputs, labels):\n",
    "        \"\"\" The testing routine that run forward pass and report the accuracy.\n",
    "\n",
    "        Args:\n",
    "            inputs: the testing data. One or several data samples are both okay.\n",
    "                The shape is expected to be [BatchSize, 2].\n",
    "            labels: the ground truth correspond to the inputs.\n",
    "        \"\"\"\n",
    "        n = inputs.shape[0]\n",
    "\n",
    "        error = 0.0\n",
    "        for idx in range(n):\n",
    "            result = self.forward(inputs[idx:idx+1, :])\n",
    "            error += abs(result - labels[idx:idx+1, :])\n",
    "\n",
    "        error /= n\n",
    "\n",
    "\n",
    "        \"\"\" Print or plot your results in your preferred forms\"\"\"\n",
    "        print('accuracy: %.2f' % ((1 - error)*100) + '%')\n",
    "        \n",
    "        \"\"\" FILL IN HERE \"\"\"\n",
    "        # print('')"
   ]
  },
  {
   "cell_type": "markdown",
   "metadata": {
    "id": "jK3VNavIFpa8"
   },
   "source": [
    "### Run \"Linear\""
   ]
  },
  {
   "cell_type": "code",
   "execution_count": 33,
   "metadata": {
    "id": "urzfLhyhET7b",
    "scrolled": true,
    "tags": []
   },
   "outputs": [],
   "source": [
    "\"\"\" Customize your own code if needed \"\"\"\n",
    "\n",
    "data, label = GenData.fetch_data('Linear', 100)\n",
    "\n",
    "net = SimpleNet(2000, 100)"
   ]
  },
  {
   "cell_type": "code",
   "execution_count": 34,
   "metadata": {
    "id": "urzfLhyhET7b",
    "scrolled": true,
    "tags": []
   },
   "outputs": [
    {
     "name": "stdout",
     "output_type": "stream",
     "text": [
      "Epochs 0: \n",
      "accuracy: 56.89%\n",
      "Epochs 100: \n",
      "accuracy: 90.73%\n",
      "Epochs 200: \n",
      "accuracy: 94.01%\n",
      "Epochs 300: \n",
      "accuracy: 95.45%\n",
      "Epochs 400: \n",
      "accuracy: 96.26%\n",
      "Epochs 500: \n",
      "accuracy: 96.79%\n",
      "Epochs 600: \n",
      "accuracy: 97.17%\n",
      "Epochs 700: \n",
      "accuracy: 97.45%\n",
      "Epochs 800: \n",
      "accuracy: 97.67%\n",
      "Epochs 900: \n",
      "accuracy: 97.85%\n",
      "Epochs 1000: \n",
      "accuracy: 98.00%\n",
      "Epochs 1100: \n",
      "accuracy: 98.13%\n",
      "Epochs 1200: \n",
      "accuracy: 98.24%\n",
      "Epochs 1300: \n",
      "accuracy: 98.34%\n",
      "Epochs 1400: \n",
      "accuracy: 98.42%\n",
      "Epochs 1500: \n",
      "accuracy: 98.50%\n",
      "Epochs 1600: \n",
      "accuracy: 98.58%\n",
      "Epochs 1700: \n",
      "accuracy: 98.64%\n",
      "Epochs 1800: \n",
      "accuracy: 98.70%\n",
      "Epochs 1900: \n",
      "accuracy: 98.76%\n",
      "Training finished\n",
      "accuracy: 98.81%\n"
     ]
    }
   ],
   "source": [
    "net.learning_rate = 0.01\n",
    "net.train(data, label)"
   ]
  },
  {
   "cell_type": "code",
   "execution_count": 35,
   "metadata": {
    "id": "urzfLhyhET7b",
    "scrolled": true,
    "tags": []
   },
   "outputs": [
    {
     "name": "stdout",
     "output_type": "stream",
     "text": [
      "(100, 2) (100, 1) 100\n"
     ]
    },
    {
     "data": {
      "image/png": "[encoded data removed]",
      "text/plain": [
       "<Figure size 432x288 with 2 Axes>"
      ]
     },
     "metadata": {
      "needs_background": "light"
     },
     "output_type": "display_data"
    }
   ],
   "source": [
    "pred_result = np.round(net.forward(data))\n",
    "SimpleNet.plot_result(data, label, pred_result)"
   ]
  },
  {
   "cell_type": "markdown",
   "metadata": {
    "id": "CJHxIo2yFeG8"
   },
   "source": [
    "### Run \"XOR\""
   ]
  },
  {
   "cell_type": "code",
   "execution_count": 25,
   "metadata": {
    "id": "QzEKq9L5Ffu3"
   },
   "outputs": [],
   "source": [
    "\"\"\" Customize your own code if needed \"\"\"\n",
    "\n",
    "data, label = GenData.fetch_data('XOR', 100)\n",
    "\n",
    "net = SimpleNet(2000, 100)"
   ]
  },
  {
   "cell_type": "code",
   "execution_count": 26,
   "metadata": {
    "id": "QzEKq9L5Ffu3",
    "scrolled": true,
    "tags": []
   },
   "outputs": [
    {
     "name": "stdout",
     "output_type": "stream",
     "text": [
      "Epochs 0: \n",
      "accuracy: 49.61%\n",
      "Epochs 100: \n",
      "accuracy: 89.48%\n",
      "Epochs 200: \n",
      "accuracy: 92.51%\n",
      "Epochs 300: \n",
      "accuracy: 93.82%\n",
      "Epochs 400: \n",
      "accuracy: 94.70%\n",
      "Epochs 500: \n",
      "accuracy: 95.26%\n",
      "Epochs 600: \n",
      "accuracy: 95.69%\n",
      "Epochs 700: \n",
      "accuracy: 95.94%\n",
      "Epochs 800: \n",
      "accuracy: 96.14%\n",
      "Epochs 900: \n",
      "accuracy: 96.36%\n",
      "Epochs 1000: \n",
      "accuracy: 96.52%\n",
      "Epochs 1100: \n",
      "accuracy: 96.68%\n",
      "Epochs 1200: \n",
      "accuracy: 96.75%\n",
      "Epochs 1300: \n",
      "accuracy: 96.93%\n",
      "Epochs 1400: \n",
      "accuracy: 96.93%\n",
      "Epochs 1500: \n",
      "accuracy: 97.03%\n",
      "Epochs 1600: \n",
      "accuracy: 97.04%\n",
      "Epochs 1700: \n",
      "accuracy: 97.21%\n",
      "Epochs 1800: \n",
      "accuracy: 97.27%\n",
      "Epochs 1900: \n",
      "accuracy: 97.35%\n",
      "Training finished\n",
      "accuracy: 97.39%\n"
     ]
    }
   ],
   "source": [
    "net.learning_rate = 0.01\n",
    "net.train(data, label)"
   ]
  },
  {
   "cell_type": "code",
   "execution_count": 29,
   "metadata": {
    "id": "QzEKq9L5Ffu3",
    "scrolled": true,
    "tags": []
   },
   "outputs": [
    {
     "name": "stdout",
     "output_type": "stream",
     "text": [
      "(100, 2) (100, 1) 100\n"
     ]
    },
    {
     "data": {
      "image/png": "[encoded data removed]",
      "text/plain": [
       "<Figure size 432x288 with 2 Axes>"
      ]
     },
     "metadata": {
      "needs_background": "light"
     },
     "output_type": "display_data"
    }
   ],
   "source": [
    "pred_result = np.round(net.forward(data))\n",
    "SimpleNet.plot_result(data, label, pred_result)"
   ]
  },
  {
   "cell_type": "markdown",
   "metadata": {},
   "source": [
    "# 討論"
   ]
  },
  {
   "cell_type": "markdown",
   "metadata": {},
   "source": [
    "在過程中我發現如果三層神經層都用sigmoid當作啟動函數，那麼初始化時如果數值是從0~1之間產生會無法back propagation，<br>\n",
    "原因是因為當數值過大(或過小)時，他的梯度會變得趨近於0導致無法回饋修正。像是第一層的輸出乘上w2會有大約100個數字相<br>\n",
    "加，如果所有數字都是正值或負值，則數字可能會增加到50左右，但如果數字有正有負，則運氣不是特別差的話加起來應該還是<br>\n",
    "接近0。所以我決定前兩層用relu就好，relu的好處就是它基本上不太會去變動原本的梯度，但第三層最終還是要靠sigmoid轉成<br>\n",
    "0到1的數字，如果前面沒有將數值控制好的話一樣會發生梯度為0的情形，所以前面兩層輸出時要加個normalization，讓數值不<br>\n",
    "要太大或太小。"
   ]
  }
 ],
 "metadata": {
  "colab": {
   "collapsed_sections": [],
   "name": "Lab_1_sample.ipynb",
   "provenance": []
  },
  "kernelspec": {
   "display_name": "Python 3 (ipykernel)",
   "language": "python",
   "name": "python3"
  },
  "language_info": {
   "codemirror_mode": {
    "name": "ipython",
    "version": 3
   },
   "file_extension": ".py",
   "mimetype": "text/x-python",
   "name": "python",
   "nbconvert_exporter": "python",
   "pygments_lexer": "ipython3",
   "version": "3.9.7"
  }
 },
 "nbformat": 4,
 "nbformat_minor": 4
}
